{
 "cells": [
  {
   "cell_type": "markdown",
   "id": "d91639af",
   "metadata": {},
   "source": [
    "# Desafio Cartão de credito\n",
    "## Porque os clientes estão desistindo da compra\n",
    "- Passo 1: Importar base de dados de https://www.kaggle.com/sakshigoyal7/credit-card-customers\n",
    "- Passo 2: Tratar base de dados\n",
    "- Passo 3: Visualizar dados\n",
    "- Passo 4: Construir uma analise com as soluções para isso"
   ]
  },
  {
   "cell_type": "code",
   "execution_count": null,
   "id": "350263e7",
   "metadata": {},
   "outputs": [],
   "source": []
  }
 ],
 "metadata": {
  "kernelspec": {
   "display_name": "Python 3",
   "language": "python",
   "name": "python3"
  },
  "language_info": {
   "codemirror_mode": {
    "name": "ipython",
    "version": 3
   },
   "file_extension": ".py",
   "mimetype": "text/x-python",
   "name": "python",
   "nbconvert_exporter": "python",
   "pygments_lexer": "ipython3",
   "version": "3.8.8"
  }
 },
 "nbformat": 4,
 "nbformat_minor": 5
}
